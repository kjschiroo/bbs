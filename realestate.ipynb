{
 "cells": [
  {
   "cell_type": "code",
   "execution_count": null,
   "metadata": {},
   "outputs": [],
   "source": [
    "import collections\n",
    "import json\n",
    "import pathlib\n",
    "\n",
    "import pandas as pd\n",
    "import matplotlib.pyplot as plt\n",
    "import shapely\n",
    "from shapely import plotting\n",
    "from shapely import geometry\n",
    "\n",
    "from bbs import realestate\n"
   ]
  },
  {
   "cell_type": "code",
   "execution_count": null,
   "metadata": {},
   "outputs": [],
   "source": [
    "states = json.loads(pathlib.Path(\"bbs/realestate/resources/states.json\").read_text())\n",
    "states = pd.DataFrame({\"state\": k, \"fips\": v} for k, v in states.items())\n",
    "counties = json.loads(pathlib.Path(\"bbs/realestate/resources/counties.geojson\").read_text())\n",
    "listings = pd.DataFrame(json.loads(pathlib.Path(\"real_estate_snapshots.json\").read_text()))"
   ]
  },
  {
   "cell_type": "code",
   "execution_count": null,
   "metadata": {},
   "outputs": [],
   "source": [
    "listings = pd.merge(listings, states, on=\"state\", how=\"right\")\n",
    "listings = listings[listings[\"bedrooms\"] > 0]"
   ]
  },
  {
   "cell_type": "code",
   "execution_count": null,
   "metadata": {},
   "outputs": [],
   "source": [
    "shapes = collections.defaultdict(list)\n",
    "for county in counties[\"features\"]:\n",
    "    shapes[county[\"properties\"][\"STATEFP\"]].append((geometry.shape(county[\"geometry\"]), county[\"properties\"][\"AFFGEOID\"]))\n",
    "\n",
    "def county_code(series: pd.Series) -> str:\n",
    "    point = shapely.Point(series.longitude, series.latitude)\n",
    "    for county, affgeoid in shapes[series.fips]:\n",
    "        if county.contains(point):\n",
    "            return affgeoid\n",
    "    return None\n",
    "\n",
    "listings[\"affgeoid\"] = listings.apply(county_code, axis=1)\n",
    "listings[\"mortgage\"] = listings[\"list_price\"].apply(lambda x: realestate.mortgage_payment(x * 0.95, 0.075 / 12, 30 * 12))\n"
   ]
  },
  {
   "cell_type": "code",
   "execution_count": null,
   "metadata": {},
   "outputs": [],
   "source": [
    "listings"
   ]
  },
  {
   "cell_type": "code",
   "execution_count": null,
   "metadata": {},
   "outputs": [],
   "source": [
    "listings = listings[[\"property_id\", \"mortgage\", \"affgeoid\"]].drop_duplicates()"
   ]
  },
  {
   "cell_type": "code",
   "execution_count": null,
   "metadata": {},
   "outputs": [],
   "source": [
    "census = realestate.get_census_data()"
   ]
  },
  {
   "cell_type": "code",
   "execution_count": null,
   "metadata": {},
   "outputs": [],
   "source": [
    "df = pd.merge(listings, census, on=\"affgeoid\")\n",
    "df[\"acceptable_mortgage\"] = (df[\"income_bracket\"] / 12) * 0.3\n",
    "df[\"affordable\"] = df[\"mortgage\"] <= df[\"acceptable_mortgage\"]\n",
    "affordable = df[df[\"affordable\"]]\n",
    "affordable = affordable.groupby([\"affgeoid\", \"property_id\"])[\"household_percent\"].sum().reset_index()\n",
    "default = df[[\"affgeoid\", \"property_id\"]].drop_duplicates()\n",
    "default[\"household_percent\"] = 0.0\n",
    "default = pd.concat([default, affordable])\n",
    "df = default.groupby([\"affgeoid\", \"property_id\"])[\"household_percent\"].sum().reset_index()\n",
    "df = df.groupby(\"affgeoid\").filter(lambda x: len(x) >= 5)\n",
    "df = df.groupby(\"affgeoid\")[\"household_percent\"].mean().reset_index()\n",
    "geo_affordability = df.sort_values(\"household_percent\", ascending=False)"
   ]
  },
  {
   "cell_type": "code",
   "execution_count": null,
   "metadata": {},
   "outputs": [],
   "source": [
    "counties = json.loads(pathlib.Path(\"bbs/realestate/resources/counties.geojson\").read_text())\n",
    "counties = {\n",
    "    county[\"properties\"][\"AFFGEOID\"]: geometry.shape(county[\"geometry\"])\n",
    "    for county in counties[\"features\"]\n",
    "}\n",
    "states = json.loads(pathlib.Path(\"bbs/realestate/resources/states.geojson\").read_text())\n",
    "states = [\n",
    "    geometry.shape(state[\"geometry\"])\n",
    "    for state in states[\"features\"]\n",
    "]"
   ]
  },
  {
   "cell_type": "code",
   "execution_count": null,
   "metadata": {},
   "outputs": [],
   "source": [
    "plt.figure(figsize=(40,20))\n",
    "ax = plt.gca()\n",
    "ax.set_xlim(-125, -65)\n",
    "ax.set_ylim(25, 50)\n",
    "\n",
    "minimum = geo_affordability.household_percent.min()\n",
    "p1 = geo_affordability.household_percent.quantile(0.01)\n",
    "maximum = geo_affordability.household_percent.max()\n",
    "p99 = geo_affordability.household_percent.quantile(0.99)\n",
    "median = geo_affordability.household_percent.median()\n",
    "missing = set(counties.keys()) - set(geo_affordability.affgeoid)\n",
    "deviser = max(abs(p1 - median), abs(p99 - median))\n",
    "for affgeoid, percent in geo_affordability.values:\n",
    "    county = counties[affgeoid]\n",
    "    alpha = min(abs(percent - median) / deviser, 1)\n",
    "    color = \"red\" if percent < median else \"green\"\n",
    "    f = shapely.plotting.plot_polygon(county, ax=ax, add_points=False, linewidth=0 if alpha else 1, facecolor=color, alpha=alpha)\n",
    "for affgeoid in missing:\n",
    "    county = counties[affgeoid]\n",
    "    shapely.plotting.plot_polygon(county, ax=ax, add_points=False, linewidth=1, facecolor=\"grey\", alpha=0.25)\n",
    "for state in states:\n",
    "    shapely.plotting.plot_polygon(state, ax=ax, add_points=False, linewidth=2, facecolor=\"none\", edgecolor=\"black\")"
   ]
  }
 ],
 "metadata": {
  "kernelspec": {
   "display_name": ".venv",
   "language": "python",
   "name": "python3"
  },
  "language_info": {
   "codemirror_mode": {
    "name": "ipython",
    "version": 3
   },
   "file_extension": ".py",
   "mimetype": "text/x-python",
   "name": "python",
   "nbconvert_exporter": "python",
   "pygments_lexer": "ipython3",
   "version": "3.10.12"
  }
 },
 "nbformat": 4,
 "nbformat_minor": 2
}
