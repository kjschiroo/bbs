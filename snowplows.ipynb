{
 "cells": [
  {
   "cell_type": "markdown",
   "id": "a07af4fb",
   "metadata": {},
   "source": [
    "# Beg Borrow and Steal: Snowplows"
   ]
  },
  {
   "cell_type": "code",
   "execution_count": null,
   "id": "0157a5f1",
   "metadata": {},
   "outputs": [],
   "source": [
    "import pandas as pd"
   ]
  },
  {
   "cell_type": "code",
   "execution_count": null,
   "id": "93553af2",
   "metadata": {},
   "outputs": [],
   "source": [
    "from bbs import snowplows\n",
    "\n",
    "plows = snowplows.get_plow_data()\n",
    "first = pd.Timestamp.fromtimestamp(plows[\"timestamp\"].min() / 1000, tz=\"UTC\")"
   ]
  },
  {
   "cell_type": "code",
   "execution_count": null,
   "id": "fd51c0a1",
   "metadata": {},
   "outputs": [],
   "source": [
    "selected = snowplows.select_plow_data_for_timestamp(plows, first + pd.Timedelta(\"1h\"))\n",
    "selected"
   ]
  },
  {
   "cell_type": "code",
   "execution_count": null,
   "id": "5986e785",
   "metadata": {},
   "outputs": [],
   "source": [
    "df = selected.sort_values([\"plow_id\", \"timestamp\"]).copy()\n",
    "df = pd.concat([df, df.groupby(\"plow_id\").shift(1).add_prefix(\"previous_\")], axis=1)\n",
    "df[\"elapsed\"] = (df[\"timestamp\"] - df[\"previous_timestamp\"]) / 1000\n",
    "df = df.dropna()\n",
    "df\n"
   ]
  },
  {
   "cell_type": "code",
   "execution_count": null,
   "id": "a4e06e82",
   "metadata": {},
   "outputs": [],
   "source": [
    "from matplotlib import pyplot as plt\n",
    "\n",
    "for row in df.itertuples():\n",
    "    plt.plot([row.previous_longitude, row.longitude], [row.previous_latitude, row.latitude], color=\"black\", alpha=max(1 - (row.elapsed / (60 * 30)), 0.05))"
   ]
  },
  {
   "cell_type": "code",
   "execution_count": null,
   "id": "4b6f0f40",
   "metadata": {},
   "outputs": [],
   "source": [
    "from matplotlib import animation\n",
    "import numpy as np\n",
    "\n",
    "def animate(df, first, last):\n",
    "    fig, ax = plt.subplots()\n",
    "    long_range = df.longitude.max() - df.longitude.min()\n",
    "    xlim = [df.longitude.min() - long_range * 0.05, df.longitude.max() + long_range * 0.05]\n",
    "    lat_range = df.latitude.max() - df.latitude.min()\n",
    "    ylim = [df.latitude.min() - lat_range * 0.05, df.latitude.max() + lat_range * 0.05]\n",
    "\n",
    "    def init():\n",
    "        ax.set_xlim(xlim)\n",
    "        ax.set_ylim(ylim)\n",
    "        ax.set_title(f\"Plow positions @ {first.tz_convert('US/Central')}\")\n",
    "        ax.set_xlabel(\"Longitude\")\n",
    "        ax.set_ylabel(\"Latitude\")\n",
    "        fig.set_size_inches(8, 10)\n",
    "        return ax.plot([], [], 'ro')\n",
    "    \n",
    "    def update(frame):\n",
    "        ax.clear()\n",
    "        target_time = frame\n",
    "        ax.set_title(f\"Plow positions @ {target_time.tz_convert('US/Central')}\")\n",
    "        ax.set_xlabel(\"Longitude\")\n",
    "        ax.set_ylabel(\"Latitude\")\n",
    "        selected = snowplows.select_plow_data_for_timestamp(plows, target_time, interval=60*60*6)\n",
    "        df = selected.sort_values([\"plow_id\", \"timestamp\"]).copy()\n",
    "        df = pd.concat([df, df.groupby(\"plow_id\").shift(1).add_prefix(\"previous_\")], axis=1)\n",
    "        df[\"elapsed\"] = target_time.timestamp() - (df[\"timestamp\"] / 1000)\n",
    "        df = df.dropna()\n",
    "        plots = []\n",
    "        for row in df.itertuples():\n",
    "            ln, = ax.plot([row.previous_longitude, row.longitude], [row.previous_latitude, row.latitude], color=\"black\", alpha=max(1 - (row.elapsed / (60 * 30)), 0.05))\n",
    "            plots.append(ln)\n",
    "        ax.set_xlim(xlim)\n",
    "        ax.set_ylim(ylim)\n",
    "        return plots\n",
    "\n",
    "    anim = animation.FuncAnimation(fig, update, frames=pd.date_range(first, last, freq=\"5min\"), init_func=init, blit=True)\n",
    "    return anim"
   ]
  },
  {
   "cell_type": "code",
   "execution_count": null,
   "id": "f971ded6",
   "metadata": {},
   "outputs": [],
   "source": [
    "first = pd.Timestamp.fromtimestamp(plows[\"timestamp\"].min() / 1000, tz=\"UTC\")\n",
    "last = pd.Timestamp.fromtimestamp(plows[\"timestamp\"].max() / 1000, tz=\"UTC\")\n",
    "first = pd.Timestamp(\"2019-12-10T00:00:00Z\")\n",
    "\n",
    "dates = list(pd.date_range(first, last, freq=\"7d\"))\n",
    "it = iter(dates)\n",
    "next(it)\n",
    "dates = list(zip(dates, it))\n",
    "for start, end in dates:\n",
    "    anim = animate(plows, start, end)\n",
    "    writervideo = animation.FFMpegWriter(fps=30, metadata=dict(artist='Kevin Schiroo'))\n",
    "    anim.save(f\"{start.date()}.mp4\", writer=writervideo)"
   ]
  }
 ],
 "metadata": {
  "kernelspec": {
   "display_name": ".venv",
   "language": "python",
   "name": "python3"
  },
  "language_info": {
   "codemirror_mode": {
    "name": "ipython",
    "version": 3
   },
   "file_extension": ".py",
   "mimetype": "text/x-python",
   "name": "python",
   "nbconvert_exporter": "python",
   "pygments_lexer": "ipython3",
   "version": "3.10.12"
  }
 },
 "nbformat": 4,
 "nbformat_minor": 5
}
